{
 "cells": [
  {
   "cell_type": "code",
   "execution_count": null,
   "metadata": {},
   "outputs": [],
   "source": [
    "#1 다리를 지나는 트럭\n",
    "\n",
    "from collections import deque \n",
    "\n",
    "def solution(bridge_length, weight, truck_weights):\n",
    "    queue = deque([0]*bridge_length)\n",
    "    time = 0\n",
    "    s=0 # 다리위 올라가있는 무게\n",
    "    while queue :\n",
    "        time+=1\n",
    "        s-=queue.popleft()\n",
    "        \n",
    "        if truck_weights :\n",
    "            if s+truck_weights[0] <=weight :\n",
    "            #if sum(queue) + truck_weights[0] <= weight :  #이렇게 했더니 5번째 예시 시간초과\n",
    "                s+=truck_weights[0]\n",
    "                queue.append(truck_weights.pop(0))\n",
    "            else :\n",
    "                queue.append(0)\n",
    "\n",
    "    return time\n"
   ]
  },
  {
   "cell_type": "code",
   "execution_count": null,
   "metadata": {},
   "outputs": [],
   "source": [
    "#2 주식가격\n",
    "def solution(prices):\n",
    "    answer = [0]*len(prices)\n",
    "    for i in range(len(prices)-1) :\n",
    "        for j in range(i+1, len(prices)) :\n",
    "            answer[i] += 1\n",
    "            if prices[i]>prices[j] : break\n",
    " \n",
    "    return answer\n",
    "\"\"\"\n",
    "def solution(prices):\n",
    "    answer = [0] * len(prices)\n",
    "    i=0\n",
    "        \n",
    "    while prices :    \n",
    "        first = prices.pop(0)\n",
    "        cnt = 0\n",
    "        for compare in prices :\n",
    "            cnt+=1\n",
    "            if first > compare : break\n",
    "        answer[i] = cnt\n",
    "        i+=1\n",
    "        #answer.append(cnt)\n",
    "          \n",
    "    return answer\n",
    "\"\"\""
   ]
  }
 ],
 "metadata": {
  "kernelspec": {
   "display_name": "Python 3",
   "language": "python",
   "name": "python3"
  },
  "language_info": {
   "codemirror_mode": {
    "name": "ipython",
    "version": 3
   },
   "file_extension": ".py",
   "mimetype": "text/x-python",
   "name": "python",
   "nbconvert_exporter": "python",
   "pygments_lexer": "ipython3",
   "version": "3.6.5"
  }
 },
 "nbformat": 4,
 "nbformat_minor": 4
}
