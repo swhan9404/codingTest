{
 "cells": [
  {
   "cell_type": "code",
   "execution_count": null,
   "metadata": {},
   "outputs": [],
   "source": [
    "# 문자 -> 아스키코드 : ord()\n",
    "print(ord('a')) # 97\n",
    "# 아스키코드 -> 문자 : chr()\n",
    "print(chr(97)) #a"
   ]
  },
  {
   "cell_type": "code",
   "execution_count": null,
   "metadata": {},
   "outputs": [],
   "source": [
    "# 2진법 관련\n",
    "\n",
    "# 2진수 : 0b\n",
    "42 == 0b101010\n",
    "bin(42) # 0b101010\n",
    "int('0b101010', 2) # 42\n",
    "format(42, 'b') #101010\n",
    "\n",
    "# 8진수 : 0o\n",
    "42 == 0o52\n",
    "oct(42) # 0o52\n",
    "int('0o52', 8) # 42\n",
    "format(42, 'o') #52\n",
    "\n",
    "# 16진수 : 0x\n",
    "42 == 0x2a\n",
    "hex(42) # 0x2a\n",
    "int('0x2a', 16) # 42\n",
    "format(42, 'x') #2a\n",
    "format(42, 'X') #2A \n",
    "\n",
    "\n",
    "print(\"int: {0:d}, bin: {0:b}, oct: {0:o}, hex: {0:x}\".format(42))\n",
    "# 'int: 42, oct: 52, bin: 101010, hex: 2a'"
   ]
  },
  {
   "cell_type": "code",
   "execution_count": null,
   "metadata": {},
   "outputs": [],
   "source": [
    "# 내장함수 - sw ExpertAcadmy>파이썬프로그래밍 기초 > 09. 내장함수 참조"
   ]
  },
  {
   "cell_type": "code",
   "execution_count": null,
   "metadata": {},
   "outputs": [],
   "source": []
  }
 ],
 "metadata": {
  "kernelspec": {
   "display_name": "Python 3",
   "language": "python",
   "name": "python3"
  },
  "language_info": {
   "codemirror_mode": {
    "name": "ipython",
    "version": 3
   },
   "file_extension": ".py",
   "mimetype": "text/x-python",
   "name": "python",
   "nbconvert_exporter": "python",
   "pygments_lexer": "ipython3",
   "version": "3.6.5"
  }
 },
 "nbformat": 4,
 "nbformat_minor": 2
}
