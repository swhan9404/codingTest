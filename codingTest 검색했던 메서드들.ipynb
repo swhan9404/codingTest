{
 "cells": [
  {
   "cell_type": "code",
   "execution_count": null,
   "metadata": {},
   "outputs": [],
   "source": [
    "# 문자 -> 아스키코드 : ord()\n",
    "print(ord('a')) # 97\n",
    "# 아스키코드 -> 문자 : chr()\n",
    "print(chr(97)) #a"
   ]
  },
  {
   "cell_type": "code",
   "execution_count": null,
   "metadata": {},
   "outputs": [],
   "source": [
    "# 2진법 관련\n",
    "\n",
    "# 2진수 : 0b\n",
    "42 == 0b101010\n",
    "bin(42) # 0b101010\n",
    "int('0b101010', 2) # 42\n",
    "format(42, 'b') #101010\n",
    "\n",
    "# 8진수 : 0o\n",
    "42 == 0o52\n",
    "oct(42) # 0o52\n",
    "int('0o52', 8) # 42\n",
    "format(42, 'o') #52\n",
    "\n",
    "# 16진수 : 0x\n",
    "42 == 0x2a\n",
    "hex(42) # 0x2a\n",
    "int('0x2a', 16) # 42\n",
    "format(42, 'x') #2a\n",
    "format(42, 'X') #2A \n",
    "\n",
    "\n",
    "print(\"int: {0:d}, bin: {0:b}, oct: {0:o}, hex: {0:x}\".format(42))\n",
    "# 'int: 42, oct: 52, bin: 101010, hex: 2a'"
   ]
  },
  {
   "cell_type": "code",
   "execution_count": null,
   "metadata": {},
   "outputs": [],
   "source": [
    "# 내장함수 - sw ExpertAcadmy>파이썬프로그래밍 기초 > 09. 내장함수 참조"
   ]
  },
  {
   "cell_type": "code",
   "execution_count": 5,
   "metadata": {
    "scrolled": true
   },
   "outputs": [
    {
     "name": "stdout",
     "output_type": "stream",
     "text": [
      "0 Alice\n",
      "1 Bob\n",
      "2 Charlie\n",
      "a 10\n",
      "b 20\n",
      "c 30\n",
      "d 40\n",
      "Alice 24 100\n",
      "Bob 50 85\n",
      "Charlie 18 90\n"
     ]
    },
    {
     "data": {
      "text/plain": [
       "'\\nAlice 24 100\\nBob 50 85\\nCharlie 18 90\\n'"
      ]
     },
     "execution_count": 5,
     "metadata": {},
     "output_type": "execute_result"
    }
   ],
   "source": [
    "# List 리스트 내포를 이용한 생성\n",
    "\"\"\"\n",
    "리스트 내포 기능을 이용하여 1부터 20사이의 숫자 중 3의 배수가 아니거나\n",
    "5의 배수가 아닌 숫자들의 제곱 값으로 구성된 리스트 객체를 출력하는 프로그램을 작성하십시오.\n",
    "\"\"\"\n",
    "data_list = [i*i for i in range(1,21) if i%3 or i%5]\n",
    "\n",
    "# list - enumerate\n",
    "list_data = ['Alice', 'Bob', 'Charlie']\n",
    "for idx, item in enumerate(list_data) :\n",
    "    print(idx, item)\n",
    "\n",
    "\"\"\"\n",
    "0 Alice\n",
    "1 Bob\n",
    "2 Charlie\n",
    "\"\"\"\n",
    "\n",
    "\n",
    "# zip - 동일한 개수로 이루어진 자료형을 묶어주는 역할 함수\n",
    "names = ['Alice', 'Bob', 'Charlie']\n",
    "ages = [24, 50, 18]\n",
    "points = [100, 85, 90]\n",
    "\n",
    "for name, age, point in zip(names, ages, points):\n",
    "    print(name, age, point)\n",
    "\n",
    "\"\"\"\n",
    "Alice 24 100\n",
    "Bob 50 85\n",
    "Charlie 18 90\n",
    "\"\"\"\n",
    "\n",
    "# List 하나의 변수로 합치기\n",
    "str = \"\".join(list_data)\n",
    "print(str) # AliceBobCharlie\n",
    "\n",
    "# filter로 거르기 \n",
    "filter(함수, 리스트) \n",
    "# 조건에 해당하는 항목을 걸러내는 함수 - 안에 들어갈 함수는 각 원소에 대해 True, False를 반환\n",
    "def iseven(n) :\n",
    "\treturn n%2 ==0\n",
    "numbers = [1,2,3,4,5,6,7,8,9,10]\n",
    "ret_val = filter(iseven, numbers) #iseven 함수가 True를 반환한 짝수 값을 항목으로 하는 리스트 생성 후 반환\n",
    "# ret_val = filter(lambda n: n%2==0, numbers) \n",
    "print(\"{0}\".format(list(ret_val))) # [2, 4, 6, 8, 10]"
   ]
  },
  {
   "cell_type": "code",
   "execution_count": null,
   "metadata": {},
   "outputs": [],
   "source": [
    "# dictionary : key, value 동시 for문\n",
    "x = {'a': 10, 'b': 20, 'c': 30, 'd': 40}\n",
    "for key, value in x.items(): # dict.items() 같은 경우 리스트에 튜플이 담겨있는 형태로 반환\n",
    "    print(key, value)\n",
    "    \n",
    "\"\"\"\n",
    "a 10\n",
    "b 20\n",
    "c 30\n",
    "d 40\n",
    "\"\"\"\n",
    "\n",
    "# dictionary 가격에 따라 정렬하기\n",
    "inp_dic = { \"TV\": 2000000, \"냉장고\": 1500000, \"책상\": 350000, \"노트북\": 1200000, \"가스레인지\": 200000, \"세탁기\": 1000000}\n",
    "\n",
    "inp_dic = sorted(inp_dic.items(), key =(lambda key : key[1]), reverse=True)\n",
    "\n",
    "for key, value in  inp_dic :\n",
    "    print(\"{0}: {1}\".format(key,value))\n",
    "\"\"\"\n",
    "TV: 2000000\n",
    "냉장고: 1500000\n",
    "노트북: 1200000\n",
    "세탁기: 1000000\n",
    "책상: 350000\n",
    "가스레인지: 200000\n",
    "\"\"\""
   ]
  }
 ],
 "metadata": {
  "kernelspec": {
   "display_name": "Python 3",
   "language": "python",
   "name": "python3"
  },
  "language_info": {
   "codemirror_mode": {
    "name": "ipython",
    "version": 3
   },
   "file_extension": ".py",
   "mimetype": "text/x-python",
   "name": "python",
   "nbconvert_exporter": "python",
   "pygments_lexer": "ipython3",
   "version": "3.6.5"
  }
 },
 "nbformat": 4,
 "nbformat_minor": 2
}
